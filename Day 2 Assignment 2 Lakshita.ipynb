{
 "cells": [
  {
   "cell_type": "markdown",
   "metadata": {},
   "source": [
    "# Day 2 Assignment 2 \n",
    "### Lakshita Gaur "
   ]
  },
  {
   "cell_type": "code",
   "execution_count": 1,
   "metadata": {},
   "outputs": [],
   "source": [
    "#Question 1\n",
    "#Create a dataframe with 10 rows on random numbers and 4 coloumns (coloumns labelled as a,b,c,d) \n",
    "#and then create a bar graph \n"
   ]
  },
  {
   "cell_type": "code",
   "execution_count": 2,
   "metadata": {},
   "outputs": [],
   "source": [
    "import numpy as np\n",
    "import pandas as pd\n",
    "import matplotlib.pyplot as plt\n",
    "from numpy.random import randn,randint,uniform\n",
    "%matplotlib inline"
   ]
  },
  {
   "cell_type": "code",
   "execution_count": 6,
   "metadata": {},
   "outputs": [],
   "source": [
    "columns=['a','b','c','d']\n",
    "NewData = pd.DataFrame(randn(10,4),columns = columns)"
   ]
  },
  {
   "cell_type": "code",
   "execution_count": 7,
   "metadata": {},
   "outputs": [
    {
     "data": {
      "text/html": [
       "<div>\n",
       "<style scoped>\n",
       "    .dataframe tbody tr th:only-of-type {\n",
       "        vertical-align: middle;\n",
       "    }\n",
       "\n",
       "    .dataframe tbody tr th {\n",
       "        vertical-align: top;\n",
       "    }\n",
       "\n",
       "    .dataframe thead th {\n",
       "        text-align: right;\n",
       "    }\n",
       "</style>\n",
       "<table border=\"1\" class=\"dataframe\">\n",
       "  <thead>\n",
       "    <tr style=\"text-align: right;\">\n",
       "      <th></th>\n",
       "      <th>a</th>\n",
       "      <th>b</th>\n",
       "      <th>c</th>\n",
       "      <th>d</th>\n",
       "    </tr>\n",
       "  </thead>\n",
       "  <tbody>\n",
       "    <tr>\n",
       "      <th>0</th>\n",
       "      <td>-0.246589</td>\n",
       "      <td>-1.226450</td>\n",
       "      <td>-0.089767</td>\n",
       "      <td>0.529492</td>\n",
       "    </tr>\n",
       "    <tr>\n",
       "      <th>1</th>\n",
       "      <td>1.109094</td>\n",
       "      <td>0.185823</td>\n",
       "      <td>0.923410</td>\n",
       "      <td>0.307971</td>\n",
       "    </tr>\n",
       "    <tr>\n",
       "      <th>2</th>\n",
       "      <td>-0.698369</td>\n",
       "      <td>-1.421706</td>\n",
       "      <td>-0.546430</td>\n",
       "      <td>0.324408</td>\n",
       "    </tr>\n",
       "    <tr>\n",
       "      <th>3</th>\n",
       "      <td>-0.089854</td>\n",
       "      <td>-0.686305</td>\n",
       "      <td>-1.211639</td>\n",
       "      <td>-1.457287</td>\n",
       "    </tr>\n",
       "    <tr>\n",
       "      <th>4</th>\n",
       "      <td>1.732713</td>\n",
       "      <td>0.620425</td>\n",
       "      <td>1.131590</td>\n",
       "      <td>-0.564121</td>\n",
       "    </tr>\n",
       "    <tr>\n",
       "      <th>5</th>\n",
       "      <td>1.444275</td>\n",
       "      <td>0.210547</td>\n",
       "      <td>-1.483930</td>\n",
       "      <td>-0.847383</td>\n",
       "    </tr>\n",
       "    <tr>\n",
       "      <th>6</th>\n",
       "      <td>-0.234677</td>\n",
       "      <td>0.146492</td>\n",
       "      <td>1.620281</td>\n",
       "      <td>-2.037284</td>\n",
       "    </tr>\n",
       "    <tr>\n",
       "      <th>7</th>\n",
       "      <td>-0.401589</td>\n",
       "      <td>0.751456</td>\n",
       "      <td>-0.272330</td>\n",
       "      <td>-1.267254</td>\n",
       "    </tr>\n",
       "    <tr>\n",
       "      <th>8</th>\n",
       "      <td>1.233728</td>\n",
       "      <td>0.078688</td>\n",
       "      <td>0.076620</td>\n",
       "      <td>0.893538</td>\n",
       "    </tr>\n",
       "    <tr>\n",
       "      <th>9</th>\n",
       "      <td>2.084756</td>\n",
       "      <td>-0.475752</td>\n",
       "      <td>-0.209836</td>\n",
       "      <td>0.211126</td>\n",
       "    </tr>\n",
       "  </tbody>\n",
       "</table>\n",
       "</div>"
      ],
      "text/plain": [
       "          a         b         c         d\n",
       "0 -0.246589 -1.226450 -0.089767  0.529492\n",
       "1  1.109094  0.185823  0.923410  0.307971\n",
       "2 -0.698369 -1.421706 -0.546430  0.324408\n",
       "3 -0.089854 -0.686305 -1.211639 -1.457287\n",
       "4  1.732713  0.620425  1.131590 -0.564121\n",
       "5  1.444275  0.210547 -1.483930 -0.847383\n",
       "6 -0.234677  0.146492  1.620281 -2.037284\n",
       "7 -0.401589  0.751456 -0.272330 -1.267254\n",
       "8  1.233728  0.078688  0.076620  0.893538\n",
       "9  2.084756 -0.475752 -0.209836  0.211126"
      ]
     },
     "execution_count": 7,
     "metadata": {},
     "output_type": "execute_result"
    }
   ],
   "source": [
    "NewData"
   ]
  },
  {
   "cell_type": "code",
   "execution_count": 15,
   "metadata": {},
   "outputs": [
    {
     "data": {
      "text/plain": [
       "<matplotlib.axes._subplots.AxesSubplot at 0x23490b60160>"
      ]
     },
     "execution_count": 15,
     "metadata": {},
     "output_type": "execute_result"
    },
    {
     "data": {
      "image/png": "[encoded data removed]",
      "text/plain": [
       "<Figure size 720x720 with 1 Axes>"
      ]
     },
     "metadata": {
      "needs_background": "light"
     },
     "output_type": "display_data"
    }
   ],
   "source": [
    "NewData.plot(kind= 'bar',figsize=(10,10),stacked = False)"
   ]
  },
  {
   "cell_type": "code",
   "execution_count": 17,
   "metadata": {},
   "outputs": [
    {
     "data": {
      "text/plain": [
       "<matplotlib.axes._subplots.AxesSubplot at 0x23490ffa5b0>"
      ]
     },
     "execution_count": 17,
     "metadata": {},
     "output_type": "execute_result"
    },
    {
     "data": {
      "image/png": "[encoded data removed]",
      "text/plain": [
       "<Figure size 720x720 with 1 Axes>"
      ]
     },
     "metadata": {
      "needs_background": "light"
     },
     "output_type": "display_data"
    }
   ],
   "source": [
    "NewData.plot(kind= 'hist',figsize=(10,10),stacked = True)"
   ]
  },
  {
   "cell_type": "code",
   "execution_count": null,
   "metadata": {},
   "outputs": [],
   "source": []
  },
  {
   "cell_type": "code",
   "execution_count": null,
   "metadata": {},
   "outputs": [],
   "source": []
  }
 ],
 "metadata": {
  "kernelspec": {
   "display_name": "Python 3",
   "language": "python",
   "name": "python3"
  },
  "language_info": {
   "codemirror_mode": {
    "name": "ipython",
    "version": 3
   },
   "file_extension": ".py",
   "mimetype": "text/x-python",
   "name": "python",
   "nbconvert_exporter": "python",
   "pygments_lexer": "ipython3",
   "version": "3.8.3"
  }
 },
 "nbformat": 4,
 "nbformat_minor": 4
}
